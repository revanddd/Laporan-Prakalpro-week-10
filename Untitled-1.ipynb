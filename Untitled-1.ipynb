{
 "cells": [
  {
   "cell_type": "code",
   "execution_count": 1,
   "metadata": {},
   "outputs": [
    {
     "name": "stdout",
     "output_type": "stream",
     "text": [
      "Tiga nilai terbaik: [98, 87, 78]\n"
     ]
    }
   ],
   "source": [
    "nilai = [78, 56, 23, 98, 87] \n",
    "nilai.sort(reverse=True)      \n",
    "tiga_terbaik = nilai[:3]      \n",
    "\n",
    "print(\"Tiga nilai terbaik:\", tiga_terbaik)\n"
   ]
  },
  {
   "cell_type": "code",
   "execution_count": 2,
   "metadata": {},
   "outputs": [
    {
     "name": "stdout",
     "output_type": "stream",
     "text": [
      "Nilai maksimum: 36.0\n",
      "Nilai minimum: 34.0\n"
     ]
    }
   ],
   "source": [
    "angka = [float(input(\"Masukkan angka (ketik 'done' untuk selesai): \")) for _ in iter(input, 'done')]\n",
    "\n",
    "if angka:\n",
    "    print(\"Nilai maksimum:\", max(angka))\n",
    "    print(\"Nilai minimum:\", min(angka))\n",
    "else:\n",
    "    print(\"Anda tidak memasukkan angka.\")\n"
   ]
  },
  {
   "cell_type": "code",
   "execution_count": 10,
   "metadata": {},
   "outputs": [
    {
     "name": "stdout",
     "output_type": "stream",
     "text": [
      "======Isi Berita======\n",
      "Cuaca adalah kondisi atmosfer pada suatu lokasi dan waktu tertentu yang mencakup suhu udara, \n",
      "kelembaban, tekanan udara, kecepatan dan arah angin, serta kondisi langit (cerah, mendung, hujan, dll.). \n",
      "Cuaca dipengaruhi oleh berbagai faktor seperti perubahan musiman, pola angin, dan keberadaan sistem cuaca seperti siklon, \n",
      "anti-siklon, dan front.Pemahaman tentang cuaca sangat penting karena cuaca dapat memengaruhi berbagai aktivitas manusia, \n",
      "termasuk pertanian, transportasi, dan kegiatan luar ruangan lainnya. Prediksi cuaca yang akurat sangat diperlukan untuk membantu \n",
      "masyarakat dalam mengambil keputusan yang tepat terkait dengan kegiatan sehari-hari mereka.Selain itu, perubahan iklim global juga\n",
      "memengaruhi pola cuaca di berbagai belahan dunia. Peningkatan suhu global dapat menyebabkan perubahan drastis dalam pola cuaca, \n",
      "termasuk peningkatan kejadian cuaca ekstrem seperti badai, banjir, dan kekeringan.Oleh karena itu, pemantauan dan pemahaman \n",
      "yang baik tentang cuaca serta upaya mitigasi terhadap perubahan iklim sangatlah penting untuk menjaga keamanan dan \n",
      "kesejahteraan manusia serta lingkungan hidup.\n",
      "=======Kata Unik Pada Berita========\n",
      "['cuaca', 'adalah', 'kondisi', 'atmosfer', 'pada', 'suatu', 'lokasi', 'dan', 'waktu', 'tertentu', 'yang', 'mencakup', 'suhu', 'udara', 'kelembaban', 'tekanan', 'kecepatan', 'arah', 'angin', 'serta', 'langit', '(cerah', 'mendung', 'hujan', 'dll', ')', 'dipengaruhi', 'oleh', 'berbagai', 'faktor', 'seperti', 'perubahan', 'musiman', 'pola', 'keberadaan', 'sistem', 'siklon', 'anti-siklon', 'front', 'pemahaman', 'tentang', 'sangat', 'penting', 'karena', 'dapat', 'memengaruhi', 'aktivitas', 'manusia', 'termasuk', 'pertanian', 'transportasi', 'kegiatan', 'luar', 'ruangan', 'lainnya', 'prediksi', 'akurat', 'diperlukan', 'untuk', 'membantu', 'masyarakat', 'dalam', 'mengambil', 'keputusan', 'tepat', 'terkait', 'dengan', 'sehari-hari', 'mereka', 'selain', 'itu', 'iklim', 'global', 'juga', 'di', 'belahan', 'dunia', 'peningkatan', 'menyebabkan', 'drastis', 'kejadian', 'ekstrem', 'badai', 'banjir', 'kekeringan', 'pemantauan', 'baik', 'upaya', 'mitigasi', 'terhadap', 'sangatlah', 'menjaga', 'keamanan', 'kesejahteraan', 'lingkungan', 'hidup']\n"
     ]
    }
   ],
   "source": [
    "buka = open(\"cuaca.txt\", \"r\", encoding=\"utf-8\")\n",
    "bacabaris = buka.read()\n",
    "pisah = bacabaris.split(\".\")\n",
    "kataunik = []\n",
    "\n",
    "for i in pisah:\n",
    "    kata = i.strip().split()\n",
    "    for j in kata:\n",
    "        j = j.strip(\".,?!\\\"';:-\").lower()\n",
    "        if j not in kataunik:\n",
    "            kataunik.append(j)\n",
    "\n",
    "print(\"======Isi Berita======\")\n",
    "print(bacabaris)\n",
    "print(\"=======Kata Unik Pada Berita========\")\n",
    "print(kataunik)\n"
   ]
  }
 ],
 "metadata": {
  "kernelspec": {
   "display_name": "Python 3",
   "language": "python",
   "name": "python3"
  },
  "language_info": {
   "codemirror_mode": {
    "name": "ipython",
    "version": 3
   },
   "file_extension": ".py",
   "mimetype": "text/x-python",
   "name": "python",
   "nbconvert_exporter": "python",
   "pygments_lexer": "ipython3",
   "version": "3.12.0"
  }
 },
 "nbformat": 4,
 "nbformat_minor": 2
}
